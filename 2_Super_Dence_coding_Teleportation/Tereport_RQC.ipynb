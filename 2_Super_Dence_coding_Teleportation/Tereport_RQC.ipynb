{
 "cells": [
  {
   "cell_type": "code",
   "execution_count": 1,
   "id": "36c253b0-f129-4086-8bae-c20ae86d594f",
   "metadata": {},
   "outputs": [],
   "source": [
    "from qiskit import *\n",
    "from qiskit.visualization import plot_histogram\n",
    "%matplotlib inline"
   ]
  },
  {
   "cell_type": "code",
   "execution_count": 2,
   "id": "294dd427-4aa8-480c-b98d-d7fe91a0a5d9",
   "metadata": {},
   "outputs": [
    {
     "name": "stderr",
     "output_type": "stream",
     "text": [
      "/tmp/ipykernel_14805/485379158.py:1: DeprecationWarning: The package qiskit.providers.ibmq is being deprecated. Please see https://ibm.biz/provider_migration_guide to get instructions on how to migrate to qiskit-ibm-provider (https://github.com/Qiskit/qiskit-ibm-provider) and qiskit-ibm-runtime (https://github.com/Qiskit/qiskit-ibm-runtime).\n",
      "  IBMQ.load_account()\n",
      "/tmp/ipykernel_14805/485379158.py:1: DeprecationWarning: The qiskit.IBMQ entrypoint and the qiskit-ibmq-provider package (accessible from 'qiskit.providers.ibmq`) are deprecated and will be removed in a future release. Instead you should use the qiskit-ibm-provider package which is accessible from 'qiskit_ibm_provider'. You can install it with 'pip install qiskit_ibm_provider'. Just replace 'qiskit.IBMQ' with 'qiskit_ibm_provider.IBMProvider'\n",
      "  IBMQ.load_account()\n"
     ]
    },
    {
     "data": {
      "text/plain": [
       "<AccountProvider for IBMQ(hub='ibm-q', group='open', project='main')>"
      ]
     },
     "execution_count": 2,
     "metadata": {},
     "output_type": "execute_result"
    }
   ],
   "source": [
    "IBMQ.load_account()"
   ]
  },
  {
   "cell_type": "code",
   "execution_count": 3,
   "id": "e8d48a69-458a-454a-827a-dceeed2ef6f6",
   "metadata": {},
   "outputs": [],
   "source": [
    "provider=IBMQ.get_provider(\"ibm-q\")"
   ]
  },
  {
   "cell_type": "code",
   "execution_count": 4,
   "id": "f6dc5dd4-6c5e-4d7f-afe7-2c90dc07ef2f",
   "metadata": {},
   "outputs": [
    {
     "name": "stdout",
     "output_type": "stream",
     "text": [
      "ibmq_qasm_simulator:0& simulated qubits\n",
      "ibmq_lima:21& 5 qubits\n",
      "ibmq_belem:26& 5 qubits\n",
      "ibmq_quito:36& 5 qubits\n",
      "simulator_statevector:0& simulated qubits\n",
      "simulator_mps:0& simulated qubits\n",
      "simulator_extended_stabilizer:1& simulated qubits\n",
      "simulator_stabilizer:1& simulated qubits\n",
      "ibmq_jakarta:140& 7 qubits\n",
      "ibmq_manila:29& 5 qubits\n",
      "ibm_lagos:92& 7 qubits\n",
      "ibm_nairobi:47& 7 qubits\n",
      "ibm_perth:109& 7 qubits\n",
      "ibm_oslo:30& 7 qubits\n"
     ]
    }
   ],
   "source": [
    "for backend in provider.backends():\n",
    "    try:\n",
    "        qubit_count=len(backend.properties().qubits)\n",
    "    except:\n",
    "        qubit_count=\"simulated\"\n",
    "    print(f\"{backend.name()}:{backend.status().pending_jobs}& {qubit_count} qubits\")"
   ]
  },
  {
   "cell_type": "code",
   "execution_count": 5,
   "id": "3f8b379d-674a-42c5-b323-8b848756cd1e",
   "metadata": {},
   "outputs": [
    {
     "data": {
      "image/png": "[encoded data removed]",
      "text/plain": [
       "<Figure size 1374.44x367.889 with 1 Axes>"
      ]
     },
     "execution_count": 5,
     "metadata": {},
     "output_type": "execute_result"
    }
   ],
   "source": [
    "circuit=QuantumCircuit(3,3)\n",
    "circuit.x(0)\n",
    "circuit.barrier()\n",
    "circuit.h(1)\n",
    "circuit.cx(1,2) ### To entangle\n",
    "circuit.barrier()\n",
    "circuit.cx(0,1)\n",
    "circuit.h(0)\n",
    "circuit.barrier()\n",
    "#### Now Alice will measure the qubits and put in the clasical bits\n",
    "circuit.measure([0,1],[0,1])\n",
    "circuit.barrier()\n",
    "# Now change q2 according to q0 and q1\n",
    "circuit.cx(1,2)\n",
    "circuit.cz(0,2)\n",
    "circuit.barrier()\n",
    "circuit.measure([2],[2])\n",
    "circuit.draw(output='mpl')"
   ]
  },
  {
   "cell_type": "code",
   "execution_count": 6,
   "id": "c97bac86-8034-460f-8d36-609fad3a4a9b",
   "metadata": {},
   "outputs": [],
   "source": [
    "quantum_computer=provider.get_backend('ibm_oslo')"
   ]
  },
  {
   "cell_type": "code",
   "execution_count": 7,
   "id": "ca545d3c-25c7-4368-9d17-afb2feadb200",
   "metadata": {},
   "outputs": [
    {
     "data": {
      "application/vnd.jupyter.widget-view+json": {
       "model_id": "403892d5d3d4467898b509960a9ee52b",
       "version_major": 2,
       "version_minor": 0
      },
      "text/plain": [
       "Accordion(children=(VBox(layout=Layout(max_width='710px', min_width='710px')),), layout=Layout(max_height='500…"
      ]
     },
     "metadata": {},
     "output_type": "display_data"
    },
    {
     "data": {
      "application/javascript": [
       "\n",
       "        const isLab = window['Jupyter'] === undefined;\n",
       "        const notebook = document.querySelector( isLab ? 'div.jp-Notebook' : '#site');\n",
       "        const jobWidget = document.querySelector('div.job_widget');\n",
       "        notebook.prepend(jobWidget);\n",
       "        jobWidget.style.zIndex = '999';\n",
       "        jobWidget.style.position = isLab ? 'sticky' : 'fixed';\n",
       "        jobWidget.style.boxShadow = '5px 5px 5px -3px black';\n",
       "        jobWidget.style.opacity = '0.95';\n",
       "        if (isLab) {\n",
       "            jobWidget.style.top = '0';\n",
       "            jobWidget.style.left = '0';\n",
       "        }\n",
       "        "
      ],
      "text/plain": [
       "<IPython.core.display.Javascript object>"
      ]
     },
     "metadata": {},
     "output_type": "display_data"
    }
   ],
   "source": [
    "import qiskit.tools.jupyter\n",
    "%qiskit_job_watcher\n",
    "job=execute(circuit,backend=quantum_computer,shots=1024)"
   ]
  },
  {
   "cell_type": "code",
   "execution_count": null,
   "id": "86fc4c1e-4fc6-4f1c-916c-56ca71ac5546",
   "metadata": {},
   "outputs": [
    {
     "name": "stdout",
     "output_type": "stream",
     "text": [
      "Job Status: job is queued (14)"
     ]
    }
   ],
   "source": [
    "from qiskit.tools.monitor import job_monitor\n",
    "job_monitor(job)"
   ]
  },
  {
   "cell_type": "code",
   "execution_count": null,
   "id": "904a9e5c-78a2-46b7-a836-4f64ed6a74d9",
   "metadata": {},
   "outputs": [],
   "source": []
  },
  {
   "cell_type": "code",
   "execution_count": null,
   "id": "629508b3-c6ff-4b15-96a7-f35483593888",
   "metadata": {},
   "outputs": [],
   "source": [
    "quantum_result=job.result()\n",
    "counts=quantum_result.get_counts(circuit)\n",
    "plot_histogram([counts])"
   ]
  }
 ],
 "metadata": {
  "kernelspec": {
   "display_name": "Python 3 (ipykernel)",
   "language": "python",
   "name": "python3"
  },
  "language_info": {
   "codemirror_mode": {
    "name": "ipython",
    "version": 3
   },
   "file_extension": ".py",
   "mimetype": "text/x-python",
   "name": "python",
   "nbconvert_exporter": "python",
   "pygments_lexer": "ipython3",
   "version": "3.9.13"
  }
 },
 "nbformat": 4,
 "nbformat_minor": 5
}
