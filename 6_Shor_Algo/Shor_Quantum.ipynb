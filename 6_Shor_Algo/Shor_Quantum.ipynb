{
 "cells": [
  {
   "cell_type": "code",
   "execution_count": 3,
   "id": "dbdab212-71e1-4e57-a671-e18566b1e7a7",
   "metadata": {},
   "outputs": [
    {
     "ename": "ImportError",
     "evalue": "cannot import name 'Shor' from 'qiskit.algorithms' (/Library/Frameworks/Python.framework/Versions/3.11/lib/python3.11/site-packages/qiskit/algorithms/__init__.py)",
     "output_type": "error",
     "traceback": [
      "\u001b[0;31m---------------------------------------------------------------------------\u001b[0m",
      "\u001b[0;31mImportError\u001b[0m                               Traceback (most recent call last)",
      "Cell \u001b[0;32mIn[3], line 2\u001b[0m\n\u001b[1;32m      1\u001b[0m \u001b[39mfrom\u001b[39;00m \u001b[39mqiskit\u001b[39;00m \u001b[39mimport\u001b[39;00m \u001b[39m*\u001b[39m\n\u001b[0;32m----> 2\u001b[0m \u001b[39mfrom\u001b[39;00m \u001b[39mqiskit\u001b[39;00m\u001b[39m.\u001b[39;00m\u001b[39malgorithms\u001b[39;00m \u001b[39mimport\u001b[39;00m Shor\n",
      "\u001b[0;31mImportError\u001b[0m: cannot import name 'Shor' from 'qiskit.algorithms' (/Library/Frameworks/Python.framework/Versions/3.11/lib/python3.11/site-packages/qiskit/algorithms/__init__.py)"
     ]
    }
   ],
   "source": [
    "from qiskit import *\n",
    "from qiskit.algorithms import Shor"
   ]
  },
  {
   "cell_type": "code",
   "execution_count": 2,
   "id": "0e2f1779-d2ae-41d7-9c51-3446659859aa",
   "metadata": {},
   "outputs": [
    {
     "name": "stderr",
     "output_type": "stream",
     "text": [
      "/tmp/ipykernel_20278/2515806739.py:2: DeprecationWarning: The Shor class is deprecated as of Qiskit Terra 0.22.0 and will be removed\n",
      "        no sooner than 3 months after the release date.\n",
      "        It is replaced by the tutorial at https://qiskit.org/textbook/ch-algorithms/shor.html\n",
      "        \n",
      "  shor = Shor(quantum_instance=qinstance)\n"
     ]
    },
    {
     "name": "stdout",
     "output_type": "stream",
     "text": [
      "Factors: [[3, 5]]\n"
     ]
    }
   ],
   "source": [
    "qinstance = Aer.get_backend('qasm_simulator')\n",
    "shor = Shor(quantum_instance=qinstance)\n",
    "\n",
    "result = shor.factor(N=15, a=7)\n",
    "print('Factors:', result.factors)"
   ]
  }
 ],
 "metadata": {
  "kernelspec": {
   "display_name": "Python 3 (ipykernel)",
   "language": "python",
   "name": "python3"
  },
  "language_info": {
   "codemirror_mode": {
    "name": "ipython",
    "version": 3
   },
   "file_extension": ".py",
   "mimetype": "text/x-python",
   "name": "python",
   "nbconvert_exporter": "python",
   "pygments_lexer": "ipython3",
   "version": "3.11.5"
  }
 },
 "nbformat": 4,
 "nbformat_minor": 5
}
