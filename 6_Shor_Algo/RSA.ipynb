{
 "cells": [
  {
   "cell_type": "code",
   "execution_count": 1,
   "id": "2978f97f-40cd-4c16-b90e-5cf426bbaf78",
   "metadata": {},
   "outputs": [],
   "source": [
    "from qiskit import Aer\n",
    "from qiskit.algorithms import Shor\n",
    "\n",
    "def shor_factorization(N, a):\n",
    "    qinstance = Aer.get_backend('qasm_simulator')\n",
    "    shor = Shor(quantum_instance=qinstance)\n",
    "\n",
    "    result = shor.factor(N=N, a=a)\n",
    "    factors = (result.factors[0][0], result.factors[0][1])\n",
    "\n",
    "    return factors"
   ]
  },
  {
   "cell_type": "code",
   "execution_count": 2,
   "id": "a15fed2d-a001-4e7d-8327-8595a7afd4ea",
   "metadata": {},
   "outputs": [],
   "source": [
    "def rsa_decrypt(p, q, e, c):\n",
    "    phi = (p - 1) * (q - 1)\n",
    "    n = p * q\n",
    "\n",
    "    a1, a2, a3 = 1, 0, 0\n",
    "    b1, b2, b3 = 0, 1, 0\n",
    "    d1, d2, d3 = phi, e, 0\n",
    "    k2 = int(d1 / d2)\n",
    "\n",
    "    while d1 != 1:\n",
    "        a3 = a1 - (a2 * k2)\n",
    "        b3 = b1 - (b2 * k2)\n",
    "        d3 = d1 - (d2 * k2)\n",
    "\n",
    "        a1, b1, d1 = a2, b2, d2\n",
    "        a2, b2, d2 = a3, b3, d3\n",
    "        k2 = int(d1 / d2)\n",
    "\n",
    "        if d2 == 1:\n",
    "            break\n",
    "\n",
    "    d = b2\n",
    "    if d < 0:\n",
    "        d = d + phi\n",
    "    elif d > phi:\n",
    "        d = d % phi\n",
    "\n",
    "    m = pow(c, d, n)\n",
    "    decrypted_message = bytes.fromhex(hex(m)[2:]).decode('utf-8')\n",
    "    return decrypted_message"
   ]
  },
  {
   "cell_type": "code",
   "execution_count": 3,
   "id": "2207fda1-4881-4cdc-8fe0-1d2b7b914e93",
   "metadata": {},
   "outputs": [],
   "source": [
    "def rsa_encrypt(p, q, e, message):\n",
    "    # Compute the modulus n by multiplying p and q\n",
    "    n = p * q\n",
    "\n",
    "    # Convert the message to its integer representation\n",
    "    m = int.from_bytes(message.encode('utf-8'), byteorder='big')\n",
    "\n",
    "    # Encrypt the message using RSA\n",
    "    c = pow(m, e, n)\n",
    "\n",
    "    return c"
   ]
  },
  {
   "cell_type": "code",
   "execution_count": 4,
   "id": "8de10512-ef25-437f-82c1-0176140fb238",
   "metadata": {},
   "outputs": [
    {
     "name": "stderr",
     "output_type": "stream",
     "text": [
      "/tmp/ipykernel_8142/3203571046.py:6: DeprecationWarning: The Shor class is deprecated as of Qiskit Terra 0.22.0 and will be removed\n",
      "        no sooner than 3 months after the release date.\n",
      "        It is replaced by the tutorial at https://qiskit.org/textbook/ch-algorithms/shor.html\n",
      "        \n",
      "  shor = Shor(quantum_instance=qinstance)\n"
     ]
    },
    {
     "name": "stdout",
     "output_type": "stream",
     "text": [
      "Factors: (3, 7)\n"
     ]
    }
   ],
   "source": [
    "N=21\n",
    "a=2\n",
    "factors = shor_factorization(N, a)\n",
    "\n",
    "print(\"Factors:\", factors)"
   ]
  }
 ],
 "metadata": {
  "kernelspec": {
   "display_name": "Python 3 (ipykernel)",
   "language": "python",
   "name": "python3"
  },
  "language_info": {
   "codemirror_mode": {
    "name": "ipython",
    "version": 3
   },
   "file_extension": ".py",
   "mimetype": "text/x-python",
   "name": "python",
   "nbconvert_exporter": "python",
   "pygments_lexer": "ipython3",
   "version": "3.9.13"
  }
 },
 "nbformat": 4,
 "nbformat_minor": 5
}
