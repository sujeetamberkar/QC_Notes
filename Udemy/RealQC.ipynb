{
 "cells": [
  {
   "cell_type": "code",
   "execution_count": 1,
   "id": "6ecf6ec8-3a8c-41d2-8da3-d45c900033a4",
   "metadata": {},
   "outputs": [],
   "source": [
    "from qiskit import *"
   ]
  },
  {
   "cell_type": "code",
   "execution_count": 2,
   "id": "444dcfdd-acd2-4b49-8e5d-697aed217557",
   "metadata": {},
   "outputs": [
    {
     "data": {
      "image/png": "[encoded data removed]",
      "text/plain": [
       "<Figure size 370.906x284.278 with 1 Axes>"
      ]
     },
     "execution_count": 2,
     "metadata": {},
     "output_type": "execute_result"
    }
   ],
   "source": [
    "circuit=QuantumCircuit(2,2)\n",
    "circuit.cx(0,1) #0----> Control qubit,1 -->target Qubit \n",
    "circuit.measure([0,1],[0,1])\n",
    "circuit.draw(output='mpl')"
   ]
  },
  {
   "cell_type": "code",
   "execution_count": 3,
   "id": "02327cb8-66d5-4990-bb48-e51c65f69437",
   "metadata": {},
   "outputs": [
    {
     "name": "stderr",
     "output_type": "stream",
     "text": [
      "/tmp/ipykernel_6333/485379158.py:1: DeprecationWarning: The package qiskit.providers.ibmq is being deprecated. Please see https://ibm.biz/provider_migration_guide to get instructions on how to migrate to qiskit-ibm-provider (https://github.com/Qiskit/qiskit-ibm-provider) and qiskit-ibm-runtime (https://github.com/Qiskit/qiskit-ibm-runtime).\n",
      "  IBMQ.load_account()\n",
      "/tmp/ipykernel_6333/485379158.py:1: DeprecationWarning: The qiskit.IBMQ entrypoint and the qiskit-ibmq-provider package (accessible from 'qiskit.providers.ibmq`) are deprecated and will be removed in a future release. Instead you should use the qiskit-ibm-provider package which is accessible from 'qiskit_ibm_provider'. You can install it with 'pip install qiskit_ibm_provider'. Just replace 'qiskit.IBMQ' with 'qiskit_ibm_provider.IBMProvider'\n",
      "  IBMQ.load_account()\n"
     ]
    },
    {
     "data": {
      "text/plain": [
       "<AccountProvider for IBMQ(hub='ibm-q', group='open', project='main')>"
      ]
     },
     "execution_count": 3,
     "metadata": {},
     "output_type": "execute_result"
    }
   ],
   "source": [
    "IBMQ.load_account()"
   ]
  },
  {
   "cell_type": "code",
   "execution_count": 4,
   "id": "6e434d70-389c-424f-b27c-a3ad538e6173",
   "metadata": {},
   "outputs": [],
   "source": [
    "provider=IBMQ.get_provider(\"ibm-q\")"
   ]
  },
  {
   "cell_type": "code",
   "execution_count": 5,
   "id": "5249765e-d099-4def-b3e2-729ba2e42c86",
   "metadata": {},
   "outputs": [
    {
     "name": "stdout",
     "output_type": "stream",
     "text": [
      "ibmq_qasm_simulator:2& simulated qubits\n",
      "ibmq_lima:33& 5 qubits\n",
      "ibmq_belem:51& 5 qubits\n",
      "ibmq_quito:16& 5 qubits\n",
      "simulator_statevector:2& simulated qubits\n",
      "simulator_mps:2& simulated qubits\n",
      "simulator_extended_stabilizer:2& simulated qubits\n",
      "simulator_stabilizer:2& simulated qubits\n",
      "ibmq_jakarta:68& 7 qubits\n",
      "ibmq_manila:69& 5 qubits\n",
      "ibm_lagos:79& 7 qubits\n",
      "ibm_nairobi:51& 7 qubits\n",
      "ibm_perth:86& 7 qubits\n",
      "ibm_oslo:36& 7 qubits\n"
     ]
    }
   ],
   "source": [
    "for backend in provider.backends():\n",
    "    try:\n",
    "        qubit_count=len(backend.properties().qubits)\n",
    "    except:\n",
    "        qubit_count=\"simulated\"\n",
    "    print(f\"{backend.name()}:{backend.status().pending_jobs}& {qubit_count} qubits\")"
   ]
  },
  {
   "cell_type": "code",
   "execution_count": 7,
   "id": "ad50ace5-8514-40ae-b267-85389fae4c8c",
   "metadata": {},
   "outputs": [
    {
     "data": {
      "application/vnd.jupyter.widget-view+json": {
       "model_id": "e5bd2bc0b79f4f04b86efee6a66bb918",
       "version_major": 2,
       "version_minor": 0
      },
      "text/plain": [
       "Accordion(children=(VBox(layout=Layout(max_width='710px', min_width='710px')),), layout=Layout(max_height='500…"
      ]
     },
     "metadata": {},
     "output_type": "display_data"
    },
    {
     "data": {
      "application/javascript": [
       "\n",
       "        const isLab = window['Jupyter'] === undefined;\n",
       "        const notebook = document.querySelector( isLab ? 'div.jp-Notebook' : '#site');\n",
       "        const jobWidget = document.querySelector('div.job_widget');\n",
       "        notebook.prepend(jobWidget);\n",
       "        jobWidget.style.zIndex = '999';\n",
       "        jobWidget.style.position = isLab ? 'sticky' : 'fixed';\n",
       "        jobWidget.style.boxShadow = '5px 5px 5px -3px black';\n",
       "        jobWidget.style.opacity = '0.95';\n",
       "        if (isLab) {\n",
       "            jobWidget.style.top = '0';\n",
       "            jobWidget.style.left = '0';\n",
       "        }\n",
       "        "
      ],
      "text/plain": [
       "<IPython.core.display.Javascript object>"
      ]
     },
     "metadata": {},
     "output_type": "display_data"
    }
   ],
   "source": [
    "quantum_computer=provider.get_backend('ibmq_quito')\n",
    "import qiskit.tools.jupyter\n",
    "%qiskit_job_watcher\n",
    "job=execute(circuit,backend=quantum_computer)"
   ]
  },
  {
   "cell_type": "code",
   "execution_count": 8,
   "id": "49dc6483-0d75-4cfe-a193-ec73a0c32adb",
   "metadata": {},
   "outputs": [
    {
     "name": "stdout",
     "output_type": "stream",
     "text": [
      "Job Status: job has successfully run\n"
     ]
    }
   ],
   "source": [
    "from qiskit.tools.monitor import job_monitor\n",
    "job_monitor(job)"
   ]
  },
  {
   "cell_type": "code",
   "execution_count": 10,
   "id": "6dfebf99-ec98-4478-b13a-dd756ebc6220",
   "metadata": {},
   "outputs": [],
   "source": [
    "quantum_result=job.result()"
   ]
  },
  {
   "cell_type": "code",
   "execution_count": 15,
   "id": "5390362b-65ec-44ab-b942-6899e30f53ab",
   "metadata": {},
   "outputs": [
    {
     "data": {
      "image/png": "[encoded data removed]",
      "text/plain": [
       "<Figure size 700x500 with 1 Axes>"
      ]
     },
     "execution_count": 15,
     "metadata": {},
     "output_type": "execute_result"
    }
   ],
   "source": [
    "from qiskit.visualization import plot_histogram\n",
    "plot_histogram(quantum_result.get_counts(circuit))"
   ]
  },
  {
   "cell_type": "code",
   "execution_count": null,
   "id": "2e093c3c-7af5-4789-bfdd-3e51583b30e7",
   "metadata": {},
   "outputs": [],
   "source": []
  }
 ],
 "metadata": {
  "kernelspec": {
   "display_name": "Python 3 (ipykernel)",
   "language": "python",
   "name": "python3"
  },
  "language_info": {
   "codemirror_mode": {
    "name": "ipython",
    "version": 3
   },
   "file_extension": ".py",
   "mimetype": "text/x-python",
   "name": "python",
   "nbconvert_exporter": "python",
   "pygments_lexer": "ipython3",
   "version": "3.9.13"
  }
 },
 "nbformat": 4,
 "nbformat_minor": 5
}
