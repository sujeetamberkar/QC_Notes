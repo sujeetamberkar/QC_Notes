{
 "cells": [
  {
   "cell_type": "code",
   "execution_count": 1,
   "id": "dbdab212-71e1-4e57-a671-e18566b1e7a7",
   "metadata": {},
   "outputs": [],
   "source": [
    "from qiskit import *\n",
    "from qiskit.algorithms import Shor"
   ]
  },
  {
   "cell_type": "code",
   "execution_count": 2,
   "id": "0e2f1779-d2ae-41d7-9c51-3446659859aa",
   "metadata": {},
   "outputs": [
    {
     "name": "stderr",
     "output_type": "stream",
     "text": [
      "/tmp/ipykernel_7484/2515806739.py:2: DeprecationWarning: The Shor class is deprecated as of Qiskit Terra 0.22.0 and will be removed\n",
      "        no sooner than 3 months after the release date.\n",
      "        It is replaced by the tutorial at https://qiskit.org/textbook/ch-algorithms/shor.html\n",
      "        \n",
      "  shor = Shor(quantum_instance=qinstance)\n"
     ]
    },
    {
     "name": "stdout",
     "output_type": "stream",
     "text": [
      "Factors: [[3, 5]]\n"
     ]
    }
   ],
   "source": [
    "qinstance = Aer.get_backend('qasm_simulator')\n",
    "shor = Shor(quantum_instance=qinstance)\n",
    "\n",
    "result = shor.factor(N=15, a=7)\n",
    "print('Factors:', result.factors)"
   ]
  },
  {
   "cell_type": "code",
   "execution_count": null,
   "id": "2b597419-950e-44ea-8ce4-6e7aa28496a3",
   "metadata": {},
   "outputs": [],
   "source": []
  }
 ],
 "metadata": {
  "kernelspec": {
   "display_name": "Python 3 (ipykernel)",
   "language": "python",
   "name": "python3"
  },
  "language_info": {
   "codemirror_mode": {
    "name": "ipython",
    "version": 3
   },
   "file_extension": ".py",
   "mimetype": "text/x-python",
   "name": "python",
   "nbconvert_exporter": "python",
   "pygments_lexer": "ipython3",
   "version": "3.9.13"
  }
 },
 "nbformat": 4,
 "nbformat_minor": 5
}
